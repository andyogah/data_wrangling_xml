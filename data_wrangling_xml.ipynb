{
 "cells": [
  {
   "cell_type": "code",
   "execution_count": 41,
   "metadata": {
    "collapsed": true
   },
   "outputs": [],
   "source": [
    "# XML exercise\n",
    "## Using data in 'data/mondial_database.xml', \n",
    "## and refering to https://docs.python.org/2.7/library/xml.etree.elementtree.html, find\n",
    "## 1. 10 countries with the lowest infant mortality rates\n",
    "## 2. 10 cities with the largest population\n",
    "## 3. 10 ethnic groups with the largest overall populations (sum of best/latest estimates over all countries)\n",
    "## 4. name and country of a) longest river, b) largest lake and c) airport at highest elevation"
   ]
  },
  {
   "cell_type": "code",
   "execution_count": null,
   "metadata": {
    "collapsed": true
   },
   "outputs": [],
   "source": []
  },
  {
   "cell_type": "code",
   "execution_count": 42,
   "metadata": {
    "collapsed": true
   },
   "outputs": [],
   "source": [
    "import pandas as pd\n",
    "from xml.etree import ElementTree as ET\n",
    "from lxml import objectify"
   ]
  },
  {
   "cell_type": "code",
   "execution_count": 43,
   "metadata": {
    "collapsed": true
   },
   "outputs": [],
   "source": [
    "#import the XML data with its path\n",
    "path = './data/mondial_database.xml'\n",
    "parsed = objectify.parse(open(path, encoding= 'utf8'))\n",
    "root = parsed.getroot()"
   ]
  },
  {
   "cell_type": "code",
   "execution_count": null,
   "metadata": {
    "collapsed": true
   },
   "outputs": [],
   "source": []
  },
  {
   "cell_type": "code",
   "execution_count": 44,
   "metadata": {
    "collapsed": true
   },
   "outputs": [],
   "source": [
    "#Question 1           \n",
    "#  10 countries with the lowest infant mortality rates\n",
    "# Easiest way to do this is using a list of dictionary as shownn below. It's considered computationally faster because lookup is by the key. Another way is by using a list of tuples as shown in subsequent solutions."
   ]
  },
  {
   "cell_type": "code",
   "execution_count": 45,
   "metadata": {},
   "outputs": [
    {
     "data": {
      "text/html": [
       "<div>\n",
       "<style>\n",
       "    .dataframe thead tr:only-child th {\n",
       "        text-align: right;\n",
       "    }\n",
       "\n",
       "    .dataframe thead th {\n",
       "        text-align: left;\n",
       "    }\n",
       "\n",
       "    .dataframe tbody tr th {\n",
       "        vertical-align: top;\n",
       "    }\n",
       "</style>\n",
       "<table border=\"1\" class=\"dataframe\">\n",
       "  <thead>\n",
       "    <tr style=\"text-align: right;\">\n",
       "      <th></th>\n",
       "      <th>border</th>\n",
       "      <th>city</th>\n",
       "      <th>dependent</th>\n",
       "      <th>encompassed</th>\n",
       "      <th>ethnicgroup</th>\n",
       "      <th>gdp_agri</th>\n",
       "      <th>gdp_ind</th>\n",
       "      <th>gdp_serv</th>\n",
       "      <th>gdp_total</th>\n",
       "      <th>government</th>\n",
       "      <th>...</th>\n",
       "      <th>infant_mortality</th>\n",
       "      <th>inflation</th>\n",
       "      <th>language</th>\n",
       "      <th>localname</th>\n",
       "      <th>name</th>\n",
       "      <th>population</th>\n",
       "      <th>population_growth</th>\n",
       "      <th>province</th>\n",
       "      <th>religion</th>\n",
       "      <th>unemployment</th>\n",
       "    </tr>\n",
       "  </thead>\n",
       "  <tbody>\n",
       "    <tr>\n",
       "      <th>0</th>\n",
       "      <td>nan</td>\n",
       "      <td>nan</td>\n",
       "      <td>nan</td>\n",
       "      <td>None</td>\n",
       "      <td>Greek</td>\n",
       "      <td>19.5</td>\n",
       "      <td>12</td>\n",
       "      <td>68.5</td>\n",
       "      <td>12800</td>\n",
       "      <td>parliamentary democracy</td>\n",
       "      <td>...</td>\n",
       "      <td>13.19</td>\n",
       "      <td>1.7</td>\n",
       "      <td>Greek</td>\n",
       "      <td>NaN</td>\n",
       "      <td>Albania</td>\n",
       "      <td>2800138</td>\n",
       "      <td>0.3</td>\n",
       "      <td>nan</td>\n",
       "      <td>Christian Orthodox</td>\n",
       "      <td>16.9</td>\n",
       "    </tr>\n",
       "    <tr>\n",
       "      <th>1</th>\n",
       "      <td>nan</td>\n",
       "      <td>nan</td>\n",
       "      <td>nan</td>\n",
       "      <td>None</td>\n",
       "      <td>Greek</td>\n",
       "      <td>3.5</td>\n",
       "      <td>16</td>\n",
       "      <td>80.5</td>\n",
       "      <td>243300</td>\n",
       "      <td>parliamentary republic</td>\n",
       "      <td>...</td>\n",
       "      <td>4.78</td>\n",
       "      <td>-0.8</td>\n",
       "      <td>Greek</td>\n",
       "      <td>Ελληνική Δημοκρατία</td>\n",
       "      <td>Greece</td>\n",
       "      <td>10816286</td>\n",
       "      <td>0.01</td>\n",
       "      <td>nan</td>\n",
       "      <td>Muslim</td>\n",
       "      <td>27.9</td>\n",
       "    </tr>\n",
       "    <tr>\n",
       "      <th>2</th>\n",
       "      <td>nan</td>\n",
       "      <td>nan</td>\n",
       "      <td>nan</td>\n",
       "      <td>None</td>\n",
       "      <td>Serb</td>\n",
       "      <td>10.2</td>\n",
       "      <td>27.5</td>\n",
       "      <td>62.3</td>\n",
       "      <td>10650</td>\n",
       "      <td>parliamentary democracy</td>\n",
       "      <td>...</td>\n",
       "      <td>7.9</td>\n",
       "      <td>2.8</td>\n",
       "      <td>Serbian</td>\n",
       "      <td>Република Македониjа</td>\n",
       "      <td>Macedonia</td>\n",
       "      <td>2059794</td>\n",
       "      <td>0.21</td>\n",
       "      <td>nan</td>\n",
       "      <td>Roman Catholic</td>\n",
       "      <td>28.6</td>\n",
       "    </tr>\n",
       "    <tr>\n",
       "      <th>3</th>\n",
       "      <td>nan</td>\n",
       "      <td>nan</td>\n",
       "      <td>nan</td>\n",
       "      <td>None</td>\n",
       "      <td>Croat</td>\n",
       "      <td>7.9</td>\n",
       "      <td>31.8</td>\n",
       "      <td>60.3</td>\n",
       "      <td>43680</td>\n",
       "      <td>republic</td>\n",
       "      <td>...</td>\n",
       "      <td>6.16</td>\n",
       "      <td>2.2</td>\n",
       "      <td>Roma</td>\n",
       "      <td>Република Србија</td>\n",
       "      <td>Serbia</td>\n",
       "      <td>7120666</td>\n",
       "      <td>-0.46</td>\n",
       "      <td>nan</td>\n",
       "      <td>Protestant</td>\n",
       "      <td>20.1</td>\n",
       "    </tr>\n",
       "    <tr>\n",
       "      <th>4</th>\n",
       "      <td>nan</td>\n",
       "      <td>nan</td>\n",
       "      <td>nan</td>\n",
       "      <td>None</td>\n",
       "      <td>Albanian</td>\n",
       "      <td>0.8</td>\n",
       "      <td>11.3</td>\n",
       "      <td>87.9</td>\n",
       "      <td>4518</td>\n",
       "      <td>republic</td>\n",
       "      <td>...</td>\n",
       "      <td>NaN</td>\n",
       "      <td>4</td>\n",
       "      <td>Albanian</td>\n",
       "      <td>Црна Гора</td>\n",
       "      <td>Montenegro</td>\n",
       "      <td>620029</td>\n",
       "      <td>-0.49</td>\n",
       "      <td>nan</td>\n",
       "      <td>Roman Catholic</td>\n",
       "      <td>19.1</td>\n",
       "    </tr>\n",
       "  </tbody>\n",
       "</table>\n",
       "<p>5 rows × 21 columns</p>\n",
       "</div>"
      ],
      "text/plain": [
       "   border  city  dependent encompassed ethnicgroup gdp_agri gdp_ind gdp_serv  \\\n",
       "0     nan   nan        nan        None       Greek     19.5      12     68.5   \n",
       "1     nan   nan        nan        None       Greek      3.5      16     80.5   \n",
       "2     nan   nan        nan        None        Serb     10.2    27.5     62.3   \n",
       "3     nan   nan        nan        None       Croat      7.9    31.8     60.3   \n",
       "4     nan   nan        nan        None    Albanian      0.8    11.3     87.9   \n",
       "\n",
       "  gdp_total               government     ...      infant_mortality inflation  \\\n",
       "0     12800  parliamentary democracy     ...                 13.19       1.7   \n",
       "1    243300   parliamentary republic     ...                  4.78      -0.8   \n",
       "2     10650  parliamentary democracy     ...                   7.9       2.8   \n",
       "3     43680                 republic     ...                  6.16       2.2   \n",
       "4      4518                 republic     ...                   NaN         4   \n",
       "\n",
       "   language             localname        name population population_growth  \\\n",
       "0     Greek                   NaN     Albania    2800138               0.3   \n",
       "1     Greek   Ελληνική Δημοκρατία      Greece   10816286              0.01   \n",
       "2   Serbian  Република Македониjа   Macedonia    2059794              0.21   \n",
       "3      Roma      Република Србија      Serbia    7120666             -0.46   \n",
       "4  Albanian             Црна Гора  Montenegro     620029             -0.49   \n",
       "\n",
       "  province            religion unemployment  \n",
       "0      nan  Christian Orthodox         16.9  \n",
       "1      nan              Muslim         27.9  \n",
       "2      nan      Roman Catholic         28.6  \n",
       "3      nan          Protestant         20.1  \n",
       "4      nan      Roman Catholic         19.1  \n",
       "\n",
       "[5 rows x 21 columns]"
      ]
     },
     "execution_count": 45,
     "metadata": {},
     "output_type": "execute_result"
    }
   ],
   "source": [
    "data = []\n",
    "for child in root.findall('country'):\n",
    "    child_data = {}\n",
    "    for child in child.getchildren():\n",
    "        child_data[child.tag] = child.text\n",
    "    data.append(child_data)\n",
    "    \n",
    "df = pd.DataFrame(data)\n",
    "df.head()"
   ]
  },
  {
   "cell_type": "code",
   "execution_count": 46,
   "metadata": {},
   "outputs": [
    {
     "data": {
      "text/html": [
       "<div>\n",
       "<style>\n",
       "    .dataframe thead tr:only-child th {\n",
       "        text-align: right;\n",
       "    }\n",
       "\n",
       "    .dataframe thead th {\n",
       "        text-align: left;\n",
       "    }\n",
       "\n",
       "    .dataframe tbody tr th {\n",
       "        vertical-align: top;\n",
       "    }\n",
       "</style>\n",
       "<table border=\"1\" class=\"dataframe\">\n",
       "  <thead>\n",
       "    <tr style=\"text-align: right;\">\n",
       "      <th></th>\n",
       "      <th>name</th>\n",
       "      <th>infant_mortality</th>\n",
       "    </tr>\n",
       "  </thead>\n",
       "  <tbody>\n",
       "    <tr>\n",
       "      <th>38</th>\n",
       "      <td>Monaco</td>\n",
       "      <td>2</td>\n",
       "    </tr>\n",
       "    <tr>\n",
       "      <th>98</th>\n",
       "      <td>Japan</td>\n",
       "      <td>2</td>\n",
       "    </tr>\n",
       "    <tr>\n",
       "      <th>117</th>\n",
       "      <td>Bermuda</td>\n",
       "      <td>2</td>\n",
       "    </tr>\n",
       "    <tr>\n",
       "      <th>36</th>\n",
       "      <td>Norway</td>\n",
       "      <td>2</td>\n",
       "    </tr>\n",
       "    <tr>\n",
       "      <th>106</th>\n",
       "      <td>Singapore</td>\n",
       "      <td>3</td>\n",
       "    </tr>\n",
       "    <tr>\n",
       "      <th>37</th>\n",
       "      <td>Sweden</td>\n",
       "      <td>3</td>\n",
       "    </tr>\n",
       "    <tr>\n",
       "      <th>10</th>\n",
       "      <td>Czech Republic</td>\n",
       "      <td>3</td>\n",
       "    </tr>\n",
       "    <tr>\n",
       "      <th>78</th>\n",
       "      <td>Hong Kong</td>\n",
       "      <td>3</td>\n",
       "    </tr>\n",
       "    <tr>\n",
       "      <th>79</th>\n",
       "      <td>Macao</td>\n",
       "      <td>3</td>\n",
       "    </tr>\n",
       "    <tr>\n",
       "      <th>44</th>\n",
       "      <td>Iceland</td>\n",
       "      <td>3</td>\n",
       "    </tr>\n",
       "  </tbody>\n",
       "</table>\n",
       "</div>"
      ],
      "text/plain": [
       "               name  infant_mortality\n",
       "38           Monaco                 2\n",
       "98            Japan                 2\n",
       "117         Bermuda                 2\n",
       "36           Norway                 2\n",
       "106       Singapore                 3\n",
       "37           Sweden                 3\n",
       "10   Czech Republic                 3\n",
       "78        Hong Kong                 3\n",
       "79            Macao                 3\n",
       "44          Iceland                 3"
      ]
     },
     "execution_count": 46,
     "metadata": {},
     "output_type": "execute_result"
    }
   ],
   "source": [
    "infant= df.loc[: , ['name', 'infant_mortality']]\n",
    "infant['infant_mortality'] = infant['infant_mortality'].astype('float64')\n",
    "lowest= infant.sort_values(by= 'infant_mortality', ascending= True)\n",
    "lowest.head(10)"
   ]
  },
  {
   "cell_type": "code",
   "execution_count": null,
   "metadata": {
    "collapsed": true
   },
   "outputs": [],
   "source": []
  },
  {
   "cell_type": "code",
   "execution_count": 47,
   "metadata": {
    "collapsed": true
   },
   "outputs": [],
   "source": [
    "#Question 2         \n",
    "#  10 cities with the largest population"
   ]
  },
  {
   "cell_type": "code",
   "execution_count": 48,
   "metadata": {
    "collapsed": true
   },
   "outputs": [],
   "source": [
    "cities = []\n",
    "for capital in root.iter('city'):\n",
    "    y = capital.findall('name')[0]\n",
    "    cities.append(str(y))\n",
    "#print(cities)\n",
    "    "
   ]
  },
  {
   "cell_type": "code",
   "execution_count": 49,
   "metadata": {
    "collapsed": true
   },
   "outputs": [],
   "source": [
    "ppn = []\n",
    "for elem in root.iter('city'):        \n",
    "    try:\n",
    "        y = elem.population[-1]\n",
    "    except AttributeError:\n",
    "        y = '0' \n",
    "    ppn.append(int(y))\n",
    "     "
   ]
  },
  {
   "cell_type": "code",
   "execution_count": 50,
   "metadata": {},
   "outputs": [
    {
     "data": {
      "text/html": [
       "<div>\n",
       "<style>\n",
       "    .dataframe thead tr:only-child th {\n",
       "        text-align: right;\n",
       "    }\n",
       "\n",
       "    .dataframe thead th {\n",
       "        text-align: left;\n",
       "    }\n",
       "\n",
       "    .dataframe tbody tr th {\n",
       "        vertical-align: top;\n",
       "    }\n",
       "</style>\n",
       "<table border=\"1\" class=\"dataframe\">\n",
       "  <thead>\n",
       "    <tr style=\"text-align: right;\">\n",
       "      <th></th>\n",
       "      <th>city</th>\n",
       "      <th>population</th>\n",
       "    </tr>\n",
       "  </thead>\n",
       "  <tbody>\n",
       "    <tr>\n",
       "      <th>0</th>\n",
       "      <td>Tirana</td>\n",
       "      <td>418495</td>\n",
       "    </tr>\n",
       "    <tr>\n",
       "      <th>1</th>\n",
       "      <td>Shkodër</td>\n",
       "      <td>77075</td>\n",
       "    </tr>\n",
       "    <tr>\n",
       "      <th>2</th>\n",
       "      <td>Durrës</td>\n",
       "      <td>113249</td>\n",
       "    </tr>\n",
       "    <tr>\n",
       "      <th>3</th>\n",
       "      <td>Vlorë</td>\n",
       "      <td>79513</td>\n",
       "    </tr>\n",
       "    <tr>\n",
       "      <th>4</th>\n",
       "      <td>Elbasan</td>\n",
       "      <td>78703</td>\n",
       "    </tr>\n",
       "  </tbody>\n",
       "</table>\n",
       "</div>"
      ],
      "text/plain": [
       "      city  population\n",
       "0   Tirana      418495\n",
       "1  Shkodër       77075\n",
       "2   Durrës      113249\n",
       "3    Vlorë       79513\n",
       "4  Elbasan       78703"
      ]
     },
     "execution_count": 50,
     "metadata": {},
     "output_type": "execute_result"
    }
   ],
   "source": [
    "data = list(zip(cities, ppn))\n",
    "df = pd.DataFrame(data, columns=['city', 'population'])\n",
    "df.head()\n"
   ]
  },
  {
   "cell_type": "code",
   "execution_count": 11,
   "metadata": {},
   "outputs": [
    {
     "data": {
      "text/html": [
       "<div>\n",
       "<style>\n",
       "    .dataframe thead tr:only-child th {\n",
       "        text-align: right;\n",
       "    }\n",
       "\n",
       "    .dataframe thead th {\n",
       "        text-align: left;\n",
       "    }\n",
       "\n",
       "    .dataframe tbody tr th {\n",
       "        vertical-align: top;\n",
       "    }\n",
       "</style>\n",
       "<table border=\"1\" class=\"dataframe\">\n",
       "  <thead>\n",
       "    <tr style=\"text-align: right;\">\n",
       "      <th></th>\n",
       "      <th>city</th>\n",
       "      <th>population</th>\n",
       "    </tr>\n",
       "  </thead>\n",
       "  <tbody>\n",
       "    <tr>\n",
       "      <th>1341</th>\n",
       "      <td>Shanghai</td>\n",
       "      <td>22315474</td>\n",
       "    </tr>\n",
       "    <tr>\n",
       "      <th>771</th>\n",
       "      <td>Istanbul</td>\n",
       "      <td>13710512</td>\n",
       "    </tr>\n",
       "    <tr>\n",
       "      <th>1527</th>\n",
       "      <td>Mumbai</td>\n",
       "      <td>12442373</td>\n",
       "    </tr>\n",
       "    <tr>\n",
       "      <th>479</th>\n",
       "      <td>Moskva</td>\n",
       "      <td>11979529</td>\n",
       "    </tr>\n",
       "    <tr>\n",
       "      <th>1340</th>\n",
       "      <td>Beijing</td>\n",
       "      <td>11716620</td>\n",
       "    </tr>\n",
       "    <tr>\n",
       "      <th>2810</th>\n",
       "      <td>São Paulo</td>\n",
       "      <td>11152344</td>\n",
       "    </tr>\n",
       "    <tr>\n",
       "      <th>1342</th>\n",
       "      <td>Tianjin</td>\n",
       "      <td>11090314</td>\n",
       "    </tr>\n",
       "    <tr>\n",
       "      <th>1064</th>\n",
       "      <td>Guangzhou</td>\n",
       "      <td>11071424</td>\n",
       "    </tr>\n",
       "    <tr>\n",
       "      <th>1582</th>\n",
       "      <td>Delhi</td>\n",
       "      <td>11034555</td>\n",
       "    </tr>\n",
       "    <tr>\n",
       "      <th>1067</th>\n",
       "      <td>Shenzhen</td>\n",
       "      <td>10358381</td>\n",
       "    </tr>\n",
       "  </tbody>\n",
       "</table>\n",
       "</div>"
      ],
      "text/plain": [
       "           city  population\n",
       "1341   Shanghai    22315474\n",
       "771    Istanbul    13710512\n",
       "1527     Mumbai    12442373\n",
       "479      Moskva    11979529\n",
       "1340    Beijing    11716620\n",
       "2810  São Paulo    11152344\n",
       "1342    Tianjin    11090314\n",
       "1064  Guangzhou    11071424\n",
       "1582      Delhi    11034555\n",
       "1067   Shenzhen    10358381"
      ]
     },
     "execution_count": 11,
     "metadata": {},
     "output_type": "execute_result"
    }
   ],
   "source": [
    "sorted_df = df.sort_values(by= 'population', ascending= False)\n",
    "sorted_df.head(10)"
   ]
  },
  {
   "cell_type": "code",
   "execution_count": null,
   "metadata": {
    "collapsed": true
   },
   "outputs": [],
   "source": []
  },
  {
   "cell_type": "code",
   "execution_count": 12,
   "metadata": {
    "collapsed": true
   },
   "outputs": [],
   "source": [
    "#Question 3  \n",
    "# 10 ethnic groups with the largest overall populations (sum of best/latest estimates over all countries)"
   ]
  },
  {
   "cell_type": "code",
   "execution_count": 13,
   "metadata": {
    "collapsed": true
   },
   "outputs": [],
   "source": [
    "#This is one way to do this by calling the path to the sub-elements like in the case of ctry.population\n",
    "#\n",
    "#w = []\n",
    "#for ctry in root.findall('country'):\n",
    "    #latest = ctry.population[-1]\n",
    "    #for eth in ctry.iter('ethnicgroup'):\n",
    "        #s = eth.text, eth.attrib['percentage'], latest\n",
    "        #w.append(s)\n"
   ]
  },
  {
   "cell_type": "code",
   "execution_count": null,
   "metadata": {
    "collapsed": true
   },
   "outputs": [],
   "source": []
  },
  {
   "cell_type": "code",
   "execution_count": 14,
   "metadata": {
    "collapsed": true
   },
   "outputs": [],
   "source": [
    "z = []\n",
    "for x in root.findall('country'):\n",
    "    y = x.findall('population')[-1]\n",
    "    for s in x.iter('ethnicgroup'):\n",
    "        yyy = s.text, s.attrib['percentage'], y.text\n",
    "        z.append(yyy)\n",
    "#print(z)"
   ]
  },
  {
   "cell_type": "code",
   "execution_count": 15,
   "metadata": {},
   "outputs": [
    {
     "data": {
      "text/html": [
       "<div>\n",
       "<style>\n",
       "    .dataframe thead tr:only-child th {\n",
       "        text-align: right;\n",
       "    }\n",
       "\n",
       "    .dataframe thead th {\n",
       "        text-align: left;\n",
       "    }\n",
       "\n",
       "    .dataframe tbody tr th {\n",
       "        vertical-align: top;\n",
       "    }\n",
       "</style>\n",
       "<table border=\"1\" class=\"dataframe\">\n",
       "  <thead>\n",
       "    <tr style=\"text-align: right;\">\n",
       "      <th></th>\n",
       "      <th>Ethic Group</th>\n",
       "      <th>Raw Percentage</th>\n",
       "      <th>Population</th>\n",
       "    </tr>\n",
       "  </thead>\n",
       "  <tbody>\n",
       "    <tr>\n",
       "      <th>0</th>\n",
       "      <td>Albanian</td>\n",
       "      <td>95</td>\n",
       "      <td>2800138</td>\n",
       "    </tr>\n",
       "    <tr>\n",
       "      <th>1</th>\n",
       "      <td>Greek</td>\n",
       "      <td>3</td>\n",
       "      <td>2800138</td>\n",
       "    </tr>\n",
       "    <tr>\n",
       "      <th>2</th>\n",
       "      <td>Greek</td>\n",
       "      <td>93</td>\n",
       "      <td>10816286</td>\n",
       "    </tr>\n",
       "    <tr>\n",
       "      <th>3</th>\n",
       "      <td>Macedonian</td>\n",
       "      <td>64.2</td>\n",
       "      <td>2059794</td>\n",
       "    </tr>\n",
       "    <tr>\n",
       "      <th>4</th>\n",
       "      <td>Albanian</td>\n",
       "      <td>25.2</td>\n",
       "      <td>2059794</td>\n",
       "    </tr>\n",
       "  </tbody>\n",
       "</table>\n",
       "</div>"
      ],
      "text/plain": [
       "  Ethic Group Raw Percentage Population\n",
       "0    Albanian             95    2800138\n",
       "1       Greek              3    2800138\n",
       "2       Greek             93   10816286\n",
       "3  Macedonian           64.2    2059794\n",
       "4    Albanian           25.2    2059794"
      ]
     },
     "execution_count": 15,
     "metadata": {},
     "output_type": "execute_result"
    }
   ],
   "source": [
    "df0 = pd.DataFrame(z, columns=['Ethic Group', 'Raw Percentage', 'Population'])  #Sorry for typo in Ethnic Group. :(\n",
    "df0.head()"
   ]
  },
  {
   "cell_type": "code",
   "execution_count": 16,
   "metadata": {
    "collapsed": true
   },
   "outputs": [],
   "source": [
    "df0['Raw Percentage'] = df0['Raw Percentage'].astype('float64')\n",
    "df0['Population'] = df0['Population'].astype('int64')\n"
   ]
  },
  {
   "cell_type": "code",
   "execution_count": 17,
   "metadata": {},
   "outputs": [
    {
     "data": {
      "text/html": [
       "<div>\n",
       "<style>\n",
       "    .dataframe thead tr:only-child th {\n",
       "        text-align: right;\n",
       "    }\n",
       "\n",
       "    .dataframe thead th {\n",
       "        text-align: left;\n",
       "    }\n",
       "\n",
       "    .dataframe tbody tr th {\n",
       "        vertical-align: top;\n",
       "    }\n",
       "</style>\n",
       "<table border=\"1\" class=\"dataframe\">\n",
       "  <thead>\n",
       "    <tr style=\"text-align: right;\">\n",
       "      <th></th>\n",
       "      <th>Ethic Group</th>\n",
       "      <th>Raw Percentage</th>\n",
       "      <th>Population</th>\n",
       "    </tr>\n",
       "  </thead>\n",
       "  <tbody>\n",
       "    <tr>\n",
       "      <th>0</th>\n",
       "      <td>Albanian</td>\n",
       "      <td>95.0</td>\n",
       "      <td>2800138</td>\n",
       "    </tr>\n",
       "    <tr>\n",
       "      <th>1</th>\n",
       "      <td>Greek</td>\n",
       "      <td>3.0</td>\n",
       "      <td>2800138</td>\n",
       "    </tr>\n",
       "    <tr>\n",
       "      <th>2</th>\n",
       "      <td>Greek</td>\n",
       "      <td>93.0</td>\n",
       "      <td>10816286</td>\n",
       "    </tr>\n",
       "    <tr>\n",
       "      <th>3</th>\n",
       "      <td>Macedonian</td>\n",
       "      <td>64.2</td>\n",
       "      <td>2059794</td>\n",
       "    </tr>\n",
       "    <tr>\n",
       "      <th>4</th>\n",
       "      <td>Albanian</td>\n",
       "      <td>25.2</td>\n",
       "      <td>2059794</td>\n",
       "    </tr>\n",
       "  </tbody>\n",
       "</table>\n",
       "</div>"
      ],
      "text/plain": [
       "  Ethic Group  Raw Percentage  Population\n",
       "0    Albanian            95.0     2800138\n",
       "1       Greek             3.0     2800138\n",
       "2       Greek            93.0    10816286\n",
       "3  Macedonian            64.2     2059794\n",
       "4    Albanian            25.2     2059794"
      ]
     },
     "execution_count": 17,
     "metadata": {},
     "output_type": "execute_result"
    }
   ],
   "source": [
    "df0.head()\n"
   ]
  },
  {
   "cell_type": "code",
   "execution_count": 18,
   "metadata": {},
   "outputs": [
    {
     "data": {
      "text/html": [
       "<div>\n",
       "<style>\n",
       "    .dataframe thead tr:only-child th {\n",
       "        text-align: right;\n",
       "    }\n",
       "\n",
       "    .dataframe thead th {\n",
       "        text-align: left;\n",
       "    }\n",
       "\n",
       "    .dataframe tbody tr th {\n",
       "        vertical-align: top;\n",
       "    }\n",
       "</style>\n",
       "<table border=\"1\" class=\"dataframe\">\n",
       "  <thead>\n",
       "    <tr style=\"text-align: right;\">\n",
       "      <th></th>\n",
       "      <th>Ethic Group</th>\n",
       "      <th>Raw Percentage</th>\n",
       "      <th>Population</th>\n",
       "      <th>Actual Percentage</th>\n",
       "    </tr>\n",
       "  </thead>\n",
       "  <tbody>\n",
       "    <tr>\n",
       "      <th>0</th>\n",
       "      <td>Albanian</td>\n",
       "      <td>95.0</td>\n",
       "      <td>2800138</td>\n",
       "      <td>0.950</td>\n",
       "    </tr>\n",
       "    <tr>\n",
       "      <th>1</th>\n",
       "      <td>Greek</td>\n",
       "      <td>3.0</td>\n",
       "      <td>2800138</td>\n",
       "      <td>0.030</td>\n",
       "    </tr>\n",
       "    <tr>\n",
       "      <th>2</th>\n",
       "      <td>Greek</td>\n",
       "      <td>93.0</td>\n",
       "      <td>10816286</td>\n",
       "      <td>0.930</td>\n",
       "    </tr>\n",
       "    <tr>\n",
       "      <th>3</th>\n",
       "      <td>Macedonian</td>\n",
       "      <td>64.2</td>\n",
       "      <td>2059794</td>\n",
       "      <td>0.642</td>\n",
       "    </tr>\n",
       "    <tr>\n",
       "      <th>4</th>\n",
       "      <td>Albanian</td>\n",
       "      <td>25.2</td>\n",
       "      <td>2059794</td>\n",
       "      <td>0.252</td>\n",
       "    </tr>\n",
       "  </tbody>\n",
       "</table>\n",
       "</div>"
      ],
      "text/plain": [
       "  Ethic Group  Raw Percentage  Population  Actual Percentage\n",
       "0    Albanian            95.0     2800138              0.950\n",
       "1       Greek             3.0     2800138              0.030\n",
       "2       Greek            93.0    10816286              0.930\n",
       "3  Macedonian            64.2     2059794              0.642\n",
       "4    Albanian            25.2     2059794              0.252"
      ]
     },
     "execution_count": 18,
     "metadata": {},
     "output_type": "execute_result"
    }
   ],
   "source": [
    "df0['Actual Percentage'] = df0['Raw Percentage']/100   #converted percentage into fraction to enable me find part of a whole of the Ethnic roup\n",
    "df0.head()"
   ]
  },
  {
   "cell_type": "code",
   "execution_count": 19,
   "metadata": {},
   "outputs": [
    {
     "data": {
      "text/html": [
       "<div>\n",
       "<style>\n",
       "    .dataframe thead tr:only-child th {\n",
       "        text-align: right;\n",
       "    }\n",
       "\n",
       "    .dataframe thead th {\n",
       "        text-align: left;\n",
       "    }\n",
       "\n",
       "    .dataframe tbody tr th {\n",
       "        vertical-align: top;\n",
       "    }\n",
       "</style>\n",
       "<table border=\"1\" class=\"dataframe\">\n",
       "  <thead>\n",
       "    <tr style=\"text-align: right;\">\n",
       "      <th></th>\n",
       "      <th>Ethic Group</th>\n",
       "      <th>Raw Percentage</th>\n",
       "      <th>Population</th>\n",
       "      <th>Actual Percentage</th>\n",
       "      <th>Actual Population</th>\n",
       "    </tr>\n",
       "  </thead>\n",
       "  <tbody>\n",
       "    <tr>\n",
       "      <th>0</th>\n",
       "      <td>Albanian</td>\n",
       "      <td>95.0</td>\n",
       "      <td>2800138</td>\n",
       "      <td>0.950</td>\n",
       "      <td>2.660131e+06</td>\n",
       "    </tr>\n",
       "    <tr>\n",
       "      <th>1</th>\n",
       "      <td>Greek</td>\n",
       "      <td>3.0</td>\n",
       "      <td>2800138</td>\n",
       "      <td>0.030</td>\n",
       "      <td>8.400414e+04</td>\n",
       "    </tr>\n",
       "    <tr>\n",
       "      <th>2</th>\n",
       "      <td>Greek</td>\n",
       "      <td>93.0</td>\n",
       "      <td>10816286</td>\n",
       "      <td>0.930</td>\n",
       "      <td>1.005915e+07</td>\n",
       "    </tr>\n",
       "    <tr>\n",
       "      <th>3</th>\n",
       "      <td>Macedonian</td>\n",
       "      <td>64.2</td>\n",
       "      <td>2059794</td>\n",
       "      <td>0.642</td>\n",
       "      <td>1.322388e+06</td>\n",
       "    </tr>\n",
       "    <tr>\n",
       "      <th>4</th>\n",
       "      <td>Albanian</td>\n",
       "      <td>25.2</td>\n",
       "      <td>2059794</td>\n",
       "      <td>0.252</td>\n",
       "      <td>5.190681e+05</td>\n",
       "    </tr>\n",
       "  </tbody>\n",
       "</table>\n",
       "</div>"
      ],
      "text/plain": [
       "  Ethic Group  Raw Percentage  Population  Actual Percentage  \\\n",
       "0    Albanian            95.0     2800138              0.950   \n",
       "1       Greek             3.0     2800138              0.030   \n",
       "2       Greek            93.0    10816286              0.930   \n",
       "3  Macedonian            64.2     2059794              0.642   \n",
       "4    Albanian            25.2     2059794              0.252   \n",
       "\n",
       "   Actual Population  \n",
       "0       2.660131e+06  \n",
       "1       8.400414e+04  \n",
       "2       1.005915e+07  \n",
       "3       1.322388e+06  \n",
       "4       5.190681e+05  "
      ]
     },
     "execution_count": 19,
     "metadata": {},
     "output_type": "execute_result"
    }
   ],
   "source": [
    "df0['Actual Population'] = df0['Population'] * df0['Actual Percentage'] #Actual population of each ethnic group is percentage of each ethnic group in each country multiplied by the latest population \n",
    "df0.head()"
   ]
  },
  {
   "cell_type": "code",
   "execution_count": 20,
   "metadata": {},
   "outputs": [
    {
     "data": {
      "text/html": [
       "<div>\n",
       "<style>\n",
       "    .dataframe thead tr:only-child th {\n",
       "        text-align: right;\n",
       "    }\n",
       "\n",
       "    .dataframe thead th {\n",
       "        text-align: left;\n",
       "    }\n",
       "\n",
       "    .dataframe tbody tr th {\n",
       "        vertical-align: top;\n",
       "    }\n",
       "</style>\n",
       "<table border=\"1\" class=\"dataframe\">\n",
       "  <thead>\n",
       "    <tr style=\"text-align: right;\">\n",
       "      <th></th>\n",
       "      <th>Ethic Group</th>\n",
       "      <th>Actual Population</th>\n",
       "    </tr>\n",
       "  </thead>\n",
       "  <tbody>\n",
       "    <tr>\n",
       "      <th>0</th>\n",
       "      <td>Albanian</td>\n",
       "      <td>2.660131e+06</td>\n",
       "    </tr>\n",
       "    <tr>\n",
       "      <th>1</th>\n",
       "      <td>Greek</td>\n",
       "      <td>8.400414e+04</td>\n",
       "    </tr>\n",
       "    <tr>\n",
       "      <th>2</th>\n",
       "      <td>Greek</td>\n",
       "      <td>1.005915e+07</td>\n",
       "    </tr>\n",
       "    <tr>\n",
       "      <th>3</th>\n",
       "      <td>Macedonian</td>\n",
       "      <td>1.322388e+06</td>\n",
       "    </tr>\n",
       "    <tr>\n",
       "      <th>4</th>\n",
       "      <td>Albanian</td>\n",
       "      <td>5.190681e+05</td>\n",
       "    </tr>\n",
       "  </tbody>\n",
       "</table>\n",
       "</div>"
      ],
      "text/plain": [
       "  Ethic Group  Actual Population\n",
       "0    Albanian       2.660131e+06\n",
       "1       Greek       8.400414e+04\n",
       "2       Greek       1.005915e+07\n",
       "3  Macedonian       1.322388e+06\n",
       "4    Albanian       5.190681e+05"
      ]
     },
     "execution_count": 20,
     "metadata": {},
     "output_type": "execute_result"
    }
   ],
   "source": [
    "df01= df0.loc[:, ['Ethic Group', 'Actual Population']]\n",
    "df01.head()"
   ]
  },
  {
   "cell_type": "code",
   "execution_count": 21,
   "metadata": {
    "collapsed": true
   },
   "outputs": [],
   "source": [
    "top_eth= df01.groupby(by= 'Ethic Group')['Actual Population'].sum().sort_values(ascending= False)"
   ]
  },
  {
   "cell_type": "code",
   "execution_count": 22,
   "metadata": {
    "collapsed": true
   },
   "outputs": [],
   "source": [
    "pd.set_option('display.float_format', lambda x: '%.0f' % x) #awesome :)"
   ]
  },
  {
   "cell_type": "code",
   "execution_count": 23,
   "metadata": {},
   "outputs": [
    {
     "data": {
      "text/plain": [
       "Ethic Group\n",
       "Han Chinese   1245058800\n",
       "Indo-Aryan     871815583\n",
       "European       494872220\n",
       "African        318325120\n",
       "Dravidian      302713744\n",
       "Mestizo        157734355\n",
       "Bengali        146776917\n",
       "Russian        131856996\n",
       "Japanese       126534212\n",
       "Malay          121993550\n",
       "Name: Actual Population, dtype: float64"
      ]
     },
     "execution_count": 23,
     "metadata": {},
     "output_type": "execute_result"
    }
   ],
   "source": [
    "top_eth.head(10)"
   ]
  },
  {
   "cell_type": "code",
   "execution_count": null,
   "metadata": {
    "collapsed": true
   },
   "outputs": [],
   "source": []
  },
  {
   "cell_type": "code",
   "execution_count": 24,
   "metadata": {
    "collapsed": true
   },
   "outputs": [],
   "source": [
    "#Question 4 \n",
    "# Name and country of a) longest river, b) largest lake and c) airport at highest elevation"
   ]
  },
  {
   "cell_type": "code",
   "execution_count": 25,
   "metadata": {
    "collapsed": true
   },
   "outputs": [],
   "source": [
    "#4a\n",
    "# I had to create a function here to save unnecessary typing, and call elements on it"
   ]
  },
  {
   "cell_type": "code",
   "execution_count": 26,
   "metadata": {
    "collapsed": true
   },
   "outputs": [],
   "source": [
    "def someFunction(x):\n",
    "    a1 = []\n",
    "    for elem in root.iter(x):\n",
    "        b1 = str(elem.name), elem.attrib['country']\n",
    "        a1.append(b1)\n",
    "    return a1\n",
    "   "
   ]
  },
  {
   "cell_type": "code",
   "execution_count": 27,
   "metadata": {},
   "outputs": [
    {
     "data": {
      "text/html": [
       "<div>\n",
       "<style>\n",
       "    .dataframe thead tr:only-child th {\n",
       "        text-align: right;\n",
       "    }\n",
       "\n",
       "    .dataframe thead th {\n",
       "        text-align: left;\n",
       "    }\n",
       "\n",
       "    .dataframe tbody tr th {\n",
       "        vertical-align: top;\n",
       "    }\n",
       "</style>\n",
       "<table border=\"1\" class=\"dataframe\">\n",
       "  <thead>\n",
       "    <tr style=\"text-align: right;\">\n",
       "      <th></th>\n",
       "      <th>River</th>\n",
       "      <th>Country</th>\n",
       "    </tr>\n",
       "  </thead>\n",
       "  <tbody>\n",
       "    <tr>\n",
       "      <th>0</th>\n",
       "      <td>Thjorsa</td>\n",
       "      <td>IS</td>\n",
       "    </tr>\n",
       "    <tr>\n",
       "      <th>1</th>\n",
       "      <td>Joekulsa a Fjoellum</td>\n",
       "      <td>IS</td>\n",
       "    </tr>\n",
       "    <tr>\n",
       "      <th>2</th>\n",
       "      <td>Glomma</td>\n",
       "      <td>N</td>\n",
       "    </tr>\n",
       "    <tr>\n",
       "      <th>3</th>\n",
       "      <td>Lagen</td>\n",
       "      <td>N</td>\n",
       "    </tr>\n",
       "    <tr>\n",
       "      <th>4</th>\n",
       "      <td>Goetaaelv</td>\n",
       "      <td>S</td>\n",
       "    </tr>\n",
       "  </tbody>\n",
       "</table>\n",
       "</div>"
      ],
      "text/plain": [
       "                 River Country\n",
       "0              Thjorsa      IS\n",
       "1  Joekulsa a Fjoellum      IS\n",
       "2               Glomma       N\n",
       "3                Lagen       N\n",
       "4            Goetaaelv       S"
      ]
     },
     "execution_count": 27,
     "metadata": {},
     "output_type": "execute_result"
    }
   ],
   "source": [
    "df1 = pd.DataFrame(someFunction('river'), columns=['River', 'Country']) #function here was called passing in 'river'\n",
    "df1.head()"
   ]
  },
  {
   "cell_type": "code",
   "execution_count": 28,
   "metadata": {
    "collapsed": true
   },
   "outputs": [],
   "source": [
    "length = []\n",
    "for l in root.iter('river'):        \n",
    "    try:\n",
    "        y = l.length\n",
    "    except AttributeError:\n",
    "        y = '0' \n",
    "    length.append(int(y))\n",
    "#print(length)\n"
   ]
  },
  {
   "cell_type": "code",
   "execution_count": 29,
   "metadata": {},
   "outputs": [
    {
     "data": {
      "text/html": [
       "<div>\n",
       "<style>\n",
       "    .dataframe thead tr:only-child th {\n",
       "        text-align: right;\n",
       "    }\n",
       "\n",
       "    .dataframe thead th {\n",
       "        text-align: left;\n",
       "    }\n",
       "\n",
       "    .dataframe tbody tr th {\n",
       "        vertical-align: top;\n",
       "    }\n",
       "</style>\n",
       "<table border=\"1\" class=\"dataframe\">\n",
       "  <thead>\n",
       "    <tr style=\"text-align: right;\">\n",
       "      <th></th>\n",
       "      <th>River Length</th>\n",
       "    </tr>\n",
       "  </thead>\n",
       "  <tbody>\n",
       "    <tr>\n",
       "      <th>0</th>\n",
       "      <td>230</td>\n",
       "    </tr>\n",
       "    <tr>\n",
       "      <th>1</th>\n",
       "      <td>206</td>\n",
       "    </tr>\n",
       "    <tr>\n",
       "      <th>2</th>\n",
       "      <td>604</td>\n",
       "    </tr>\n",
       "    <tr>\n",
       "      <th>3</th>\n",
       "      <td>322</td>\n",
       "    </tr>\n",
       "    <tr>\n",
       "      <th>4</th>\n",
       "      <td>93</td>\n",
       "    </tr>\n",
       "  </tbody>\n",
       "</table>\n",
       "</div>"
      ],
      "text/plain": [
       "   River Length\n",
       "0           230\n",
       "1           206\n",
       "2           604\n",
       "3           322\n",
       "4            93"
      ]
     },
     "execution_count": 29,
     "metadata": {},
     "output_type": "execute_result"
    }
   ],
   "source": [
    "df2 = pd.DataFrame(length, columns=['River Length'])\n",
    "df2.head()"
   ]
  },
  {
   "cell_type": "code",
   "execution_count": 30,
   "metadata": {},
   "outputs": [
    {
     "data": {
      "text/html": [
       "<div>\n",
       "<style>\n",
       "    .dataframe thead tr:only-child th {\n",
       "        text-align: right;\n",
       "    }\n",
       "\n",
       "    .dataframe thead th {\n",
       "        text-align: left;\n",
       "    }\n",
       "\n",
       "    .dataframe tbody tr th {\n",
       "        vertical-align: top;\n",
       "    }\n",
       "</style>\n",
       "<table border=\"1\" class=\"dataframe\">\n",
       "  <thead>\n",
       "    <tr style=\"text-align: right;\">\n",
       "      <th></th>\n",
       "      <th>River</th>\n",
       "      <th>Country</th>\n",
       "      <th>River Length</th>\n",
       "    </tr>\n",
       "  </thead>\n",
       "  <tbody>\n",
       "    <tr>\n",
       "      <th>174</th>\n",
       "      <td>Amazonas</td>\n",
       "      <td>CO BR PE</td>\n",
       "      <td>6448</td>\n",
       "    </tr>\n",
       "  </tbody>\n",
       "</table>\n",
       "</div>"
      ],
      "text/plain": [
       "        River   Country  River Length\n",
       "174  Amazonas  CO BR PE          6448"
      ]
     },
     "execution_count": 30,
     "metadata": {},
     "output_type": "execute_result"
    }
   ],
   "source": [
    "longest_river = pd.concat([df1, df2], axis=1).sort_values(by='River Length', ascending = False)\n",
    "longest_river.head(1)\n"
   ]
  },
  {
   "cell_type": "code",
   "execution_count": null,
   "metadata": {
    "collapsed": true
   },
   "outputs": [],
   "source": []
  },
  {
   "cell_type": "code",
   "execution_count": 31,
   "metadata": {
    "collapsed": true
   },
   "outputs": [],
   "source": [
    "#b"
   ]
  },
  {
   "cell_type": "code",
   "execution_count": 32,
   "metadata": {},
   "outputs": [
    {
     "data": {
      "text/html": [
       "<div>\n",
       "<style>\n",
       "    .dataframe thead tr:only-child th {\n",
       "        text-align: right;\n",
       "    }\n",
       "\n",
       "    .dataframe thead th {\n",
       "        text-align: left;\n",
       "    }\n",
       "\n",
       "    .dataframe tbody tr th {\n",
       "        vertical-align: top;\n",
       "    }\n",
       "</style>\n",
       "<table border=\"1\" class=\"dataframe\">\n",
       "  <thead>\n",
       "    <tr style=\"text-align: right;\">\n",
       "      <th></th>\n",
       "      <th>Lake</th>\n",
       "      <th>Country</th>\n",
       "    </tr>\n",
       "  </thead>\n",
       "  <tbody>\n",
       "    <tr>\n",
       "      <th>0</th>\n",
       "      <td>Inari</td>\n",
       "      <td>SF</td>\n",
       "    </tr>\n",
       "    <tr>\n",
       "      <th>1</th>\n",
       "      <td>Oulujaervi</td>\n",
       "      <td>SF</td>\n",
       "    </tr>\n",
       "    <tr>\n",
       "      <th>2</th>\n",
       "      <td>Kallavesi</td>\n",
       "      <td>SF</td>\n",
       "    </tr>\n",
       "    <tr>\n",
       "      <th>3</th>\n",
       "      <td>Saimaa</td>\n",
       "      <td>SF</td>\n",
       "    </tr>\n",
       "    <tr>\n",
       "      <th>4</th>\n",
       "      <td>Paeijaenne</td>\n",
       "      <td>SF</td>\n",
       "    </tr>\n",
       "  </tbody>\n",
       "</table>\n",
       "</div>"
      ],
      "text/plain": [
       "         Lake Country\n",
       "0       Inari      SF\n",
       "1  Oulujaervi      SF\n",
       "2   Kallavesi      SF\n",
       "3      Saimaa      SF\n",
       "4  Paeijaenne      SF"
      ]
     },
     "execution_count": 32,
     "metadata": {},
     "output_type": "execute_result"
    }
   ],
   "source": [
    "df3 = pd.DataFrame(someFunction('lake'), columns=['Lake', 'Country']) #function was also called here passing in 'lake'\n",
    "df3.head()"
   ]
  },
  {
   "cell_type": "code",
   "execution_count": 33,
   "metadata": {
    "collapsed": true
   },
   "outputs": [],
   "source": [
    "largest = []\n",
    "for size in root.iter('lake'):        \n",
    "    try:\n",
    "        y = size.area\n",
    "    except AttributeError:\n",
    "        y = '0' \n",
    "    largest.append(int(y))\n",
    "#print(largest)\n"
   ]
  },
  {
   "cell_type": "code",
   "execution_count": 34,
   "metadata": {},
   "outputs": [
    {
     "data": {
      "text/html": [
       "<div>\n",
       "<style>\n",
       "    .dataframe thead tr:only-child th {\n",
       "        text-align: right;\n",
       "    }\n",
       "\n",
       "    .dataframe thead th {\n",
       "        text-align: left;\n",
       "    }\n",
       "\n",
       "    .dataframe tbody tr th {\n",
       "        vertical-align: top;\n",
       "    }\n",
       "</style>\n",
       "<table border=\"1\" class=\"dataframe\">\n",
       "  <thead>\n",
       "    <tr style=\"text-align: right;\">\n",
       "      <th></th>\n",
       "      <th>Area</th>\n",
       "    </tr>\n",
       "  </thead>\n",
       "  <tbody>\n",
       "    <tr>\n",
       "      <th>0</th>\n",
       "      <td>1040</td>\n",
       "    </tr>\n",
       "    <tr>\n",
       "      <th>1</th>\n",
       "      <td>928</td>\n",
       "    </tr>\n",
       "    <tr>\n",
       "      <th>2</th>\n",
       "      <td>472</td>\n",
       "    </tr>\n",
       "    <tr>\n",
       "      <th>3</th>\n",
       "      <td>4370</td>\n",
       "    </tr>\n",
       "    <tr>\n",
       "      <th>4</th>\n",
       "      <td>1118</td>\n",
       "    </tr>\n",
       "  </tbody>\n",
       "</table>\n",
       "</div>"
      ],
      "text/plain": [
       "   Area\n",
       "0  1040\n",
       "1   928\n",
       "2   472\n",
       "3  4370\n",
       "4  1118"
      ]
     },
     "execution_count": 34,
     "metadata": {},
     "output_type": "execute_result"
    }
   ],
   "source": [
    "df4 = pd.DataFrame(largest, columns=['Area'])\n",
    "df4.head()"
   ]
  },
  {
   "cell_type": "code",
   "execution_count": 35,
   "metadata": {},
   "outputs": [
    {
     "data": {
      "text/html": [
       "<div>\n",
       "<style>\n",
       "    .dataframe thead tr:only-child th {\n",
       "        text-align: right;\n",
       "    }\n",
       "\n",
       "    .dataframe thead th {\n",
       "        text-align: left;\n",
       "    }\n",
       "\n",
       "    .dataframe tbody tr th {\n",
       "        vertical-align: top;\n",
       "    }\n",
       "</style>\n",
       "<table border=\"1\" class=\"dataframe\">\n",
       "  <thead>\n",
       "    <tr style=\"text-align: right;\">\n",
       "      <th></th>\n",
       "      <th>Lake</th>\n",
       "      <th>Country</th>\n",
       "      <th>Area</th>\n",
       "    </tr>\n",
       "  </thead>\n",
       "  <tbody>\n",
       "    <tr>\n",
       "      <th>54</th>\n",
       "      <td>Caspian Sea</td>\n",
       "      <td>R AZ KAZ IR TM</td>\n",
       "      <td>386400</td>\n",
       "    </tr>\n",
       "  </tbody>\n",
       "</table>\n",
       "</div>"
      ],
      "text/plain": [
       "           Lake         Country    Area\n",
       "54  Caspian Sea  R AZ KAZ IR TM  386400"
      ]
     },
     "execution_count": 35,
     "metadata": {},
     "output_type": "execute_result"
    }
   ],
   "source": [
    "largest_lake = pd.concat([df3, df4], axis=1).sort_values(by='Area', ascending = False)\n",
    "largest_lake.head(1)"
   ]
  },
  {
   "cell_type": "code",
   "execution_count": null,
   "metadata": {
    "collapsed": true
   },
   "outputs": [],
   "source": []
  },
  {
   "cell_type": "code",
   "execution_count": 36,
   "metadata": {
    "collapsed": true
   },
   "outputs": [],
   "source": [
    "#c"
   ]
  },
  {
   "cell_type": "code",
   "execution_count": 37,
   "metadata": {
    "collapsed": true
   },
   "outputs": [],
   "source": [
    "heights= []\n",
    "for height in root.iter('airport'):\n",
    "    try:\n",
    "        y = int(height.elevation)\n",
    "    except:\n",
    "        y = 0  \n",
    "    heights.append(y)\n",
    "#print(heights)"
   ]
  },
  {
   "cell_type": "code",
   "execution_count": 38,
   "metadata": {},
   "outputs": [
    {
     "data": {
      "text/html": [
       "<div>\n",
       "<style>\n",
       "    .dataframe thead tr:only-child th {\n",
       "        text-align: right;\n",
       "    }\n",
       "\n",
       "    .dataframe thead th {\n",
       "        text-align: left;\n",
       "    }\n",
       "\n",
       "    .dataframe tbody tr th {\n",
       "        vertical-align: top;\n",
       "    }\n",
       "</style>\n",
       "<table border=\"1\" class=\"dataframe\">\n",
       "  <thead>\n",
       "    <tr style=\"text-align: right;\">\n",
       "      <th></th>\n",
       "      <th>Height</th>\n",
       "    </tr>\n",
       "  </thead>\n",
       "  <tbody>\n",
       "    <tr>\n",
       "      <th>0</th>\n",
       "      <td>977</td>\n",
       "    </tr>\n",
       "    <tr>\n",
       "      <th>1</th>\n",
       "      <td>1792</td>\n",
       "    </tr>\n",
       "    <tr>\n",
       "      <th>2</th>\n",
       "      <td>38</td>\n",
       "    </tr>\n",
       "    <tr>\n",
       "      <th>3</th>\n",
       "      <td>811</td>\n",
       "    </tr>\n",
       "    <tr>\n",
       "      <th>4</th>\n",
       "      <td>822</td>\n",
       "    </tr>\n",
       "  </tbody>\n",
       "</table>\n",
       "</div>"
      ],
      "text/plain": [
       "   Height\n",
       "0     977\n",
       "1    1792\n",
       "2      38\n",
       "3     811\n",
       "4     822"
      ]
     },
     "execution_count": 38,
     "metadata": {},
     "output_type": "execute_result"
    }
   ],
   "source": [
    "df5 = pd.DataFrame(heights, columns=['Height'])\n",
    "df5.head()\n"
   ]
  },
  {
   "cell_type": "code",
   "execution_count": 39,
   "metadata": {},
   "outputs": [
    {
     "data": {
      "text/html": [
       "<div>\n",
       "<style>\n",
       "    .dataframe thead tr:only-child th {\n",
       "        text-align: right;\n",
       "    }\n",
       "\n",
       "    .dataframe thead th {\n",
       "        text-align: left;\n",
       "    }\n",
       "\n",
       "    .dataframe tbody tr th {\n",
       "        vertical-align: top;\n",
       "    }\n",
       "</style>\n",
       "<table border=\"1\" class=\"dataframe\">\n",
       "  <thead>\n",
       "    <tr style=\"text-align: right;\">\n",
       "      <th></th>\n",
       "      <th>Airport</th>\n",
       "      <th>Country</th>\n",
       "    </tr>\n",
       "  </thead>\n",
       "  <tbody>\n",
       "    <tr>\n",
       "      <th>0</th>\n",
       "      <td>Herat</td>\n",
       "      <td>AFG</td>\n",
       "    </tr>\n",
       "    <tr>\n",
       "      <th>1</th>\n",
       "      <td>Kabul Intl</td>\n",
       "      <td>AFG</td>\n",
       "    </tr>\n",
       "    <tr>\n",
       "      <th>2</th>\n",
       "      <td>Tirana Rinas</td>\n",
       "      <td>AL</td>\n",
       "    </tr>\n",
       "    <tr>\n",
       "      <th>3</th>\n",
       "      <td>Cheikh Larbi Tebessi</td>\n",
       "      <td>DZ</td>\n",
       "    </tr>\n",
       "    <tr>\n",
       "      <th>4</th>\n",
       "      <td>Batna Airport</td>\n",
       "      <td>DZ</td>\n",
       "    </tr>\n",
       "  </tbody>\n",
       "</table>\n",
       "</div>"
      ],
      "text/plain": [
       "                Airport Country\n",
       "0                 Herat     AFG\n",
       "1            Kabul Intl     AFG\n",
       "2          Tirana Rinas      AL\n",
       "3  Cheikh Larbi Tebessi      DZ\n",
       "4         Batna Airport      DZ"
      ]
     },
     "execution_count": 39,
     "metadata": {},
     "output_type": "execute_result"
    }
   ],
   "source": [
    "df6 = pd.DataFrame(someFunction('airport'), columns=['Airport', 'Country']) #function also called here passing in 'airport'\n",
    "df6.head()"
   ]
  },
  {
   "cell_type": "code",
   "execution_count": 40,
   "metadata": {},
   "outputs": [
    {
     "data": {
      "text/html": [
       "<div>\n",
       "<style>\n",
       "    .dataframe thead tr:only-child th {\n",
       "        text-align: right;\n",
       "    }\n",
       "\n",
       "    .dataframe thead th {\n",
       "        text-align: left;\n",
       "    }\n",
       "\n",
       "    .dataframe tbody tr th {\n",
       "        vertical-align: top;\n",
       "    }\n",
       "</style>\n",
       "<table border=\"1\" class=\"dataframe\">\n",
       "  <thead>\n",
       "    <tr style=\"text-align: right;\">\n",
       "      <th></th>\n",
       "      <th>Airport</th>\n",
       "      <th>Country</th>\n",
       "      <th>Height</th>\n",
       "    </tr>\n",
       "  </thead>\n",
       "  <tbody>\n",
       "    <tr>\n",
       "      <th>80</th>\n",
       "      <td>El Alto Intl</td>\n",
       "      <td>BOL</td>\n",
       "      <td>4063</td>\n",
       "    </tr>\n",
       "  </tbody>\n",
       "</table>\n",
       "</div>"
      ],
      "text/plain": [
       "         Airport Country  Height\n",
       "80  El Alto Intl     BOL    4063"
      ]
     },
     "execution_count": 40,
     "metadata": {},
     "output_type": "execute_result"
    }
   ],
   "source": [
    "highest_airport = pd.concat([df6, df5], axis=1).sort_values(by='Height', ascending = False)\n",
    "highest_airport.head(1)"
   ]
  },
  {
   "cell_type": "code",
   "execution_count": null,
   "metadata": {
    "collapsed": true
   },
   "outputs": [],
   "source": []
  }
 ],
 "metadata": {
  "kernelspec": {
   "display_name": "Python 3",
   "language": "python",
   "name": "python3"
  },
  "language_info": {
   "codemirror_mode": {
    "name": "ipython",
    "version": 3
   },
   "file_extension": ".py",
   "mimetype": "text/x-python",
   "name": "python",
   "nbconvert_exporter": "python",
   "pygments_lexer": "ipython3",
   "version": "3.6.1"
  }
 },
 "nbformat": 4,
 "nbformat_minor": 2
}
